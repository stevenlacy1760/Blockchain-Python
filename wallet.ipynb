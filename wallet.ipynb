{
 "cells": [
  {
   "cell_type": "code",
   "execution_count": 20,
   "metadata": {},
   "outputs": [],
   "source": [
    "# Import dependencies\n",
    "import subprocess\n",
    "import json\n",
    "from dotenv import load_dotenv\n",
    "import os\n",
    "from bit import Key, PrivateKey, PrivateKeyTestnet\n",
    "from bit.network import NetworkAPI\n",
    "from web3 import Web3\n",
    "from eth_account import Account\n",
    "from web3.middleware import geth_poa_middleware"
   ]
  },
  {
   "cell_type": "code",
   "execution_count": 21,
   "metadata": {},
   "outputs": [],
   "source": [
    "\n",
    "# Load and set environment variables\n",
    "load_dotenv()\n",
    "mnemonic=os.getenv(\"mnemonic\")\n"
   ]
  },
  {
   "cell_type": "code",
   "execution_count": 22,
   "metadata": {},
   "outputs": [],
   "source": [
    "\n",
    "# Import constants.py and necessary functions from bit and web3\n",
    "# YOUR CODE HERE\n",
    "from constants import *\n",
    "w3 = Web3(Web3.HTTPProvider(\"http://127.0.0.1:8545\"))\n",
    "w3.middleware_onion.inject(geth_poa_middleware, layer=0)\n",
    " \n",
    " \n"
   ]
  },
  {
   "cell_type": "code",
   "execution_count": 23,
   "metadata": {},
   "outputs": [],
   "source": [
    "# Create a function called `derive_wallets`\n",
    "def derive_wallets(mnemonic, coin, numderive):\n",
    "    \n",
    "    command = f'php ./hd-wallet-derive/hd-wallet-derive.php -g --mnemonic=\"{mnemonic}\" --numderive=\"{numderive}\" --coin=\"{coin}\" --format=json' \n",
    "    \n",
    "    p = subprocess.Popen(command, stdout=subprocess.PIPE, shell=True)\n",
    "    (output, err) = p.communicate()\n",
    "   \n",
    "    keys = json.loads(output)\n",
    "    return  keys\n"
   ]
  },
  {
   "cell_type": "code",
   "execution_count": 24,
   "metadata": {},
   "outputs": [],
   "source": [
    "# Create a dictionary object called coins to store the output from `derive_wallets`.\n",
    "coins = {\"eth\", \"btc-test\", \"btc\"}\n",
    "numderive = 3\n",
    "keys = {}\n",
    "for coin in coins:\n",
    "    keys[coin]= derive_wallets(mnemonic, coin, numderive=3)\n",
    "\n"
   ]
  },
  {
   "cell_type": "code",
   "execution_count": 25,
   "metadata": {},
   "outputs": [],
   "source": [
    "eth_PrivateKey = keys[\"eth\"][0]['privkey']\n",
    "btc_PrivateKey = keys['btc-test'][0]['privkey']\n"
   ]
  },
  {
   "cell_type": "code",
   "execution_count": 26,
   "metadata": {},
   "outputs": [],
   "source": [
    "# Create a function called `priv_key_to_account` that converts privkey strings to account objects.\n",
    "def priv_key_to_account(coin,priv_key):\n",
    "    print(coin)\n",
    "    print(priv_key)\n",
    "    if coin == ETH:\n",
    "        return Account.privateKeyToAccount(priv_key)\n",
    "    elif coin == BTCTEST:\n",
    "        return PrivateKeyTestnet(priv_key)\n",
    "\n"
   ]
  },
  {
   "cell_type": "code",
   "execution_count": 27,
   "metadata": {},
   "outputs": [
    {
     "name": "stdout",
     "output_type": "stream",
     "text": [
      "\"0xeb6abd70a4554eb4b7c4fe51b8045060b4cb103146304b69b061276d203e19b3\"\n",
      "\"cSRukXneF94qmFaHdrByWtAFaqqzDua7C6n5kjtzNAFWhFrb4bwu\"\n"
     ]
    }
   ],
   "source": [
    "print(json.dumps(eth_PrivateKey, indent=4, sort_keys=True))\n",
    "print(json.dumps(btc_PrivateKey, indent=4, sort_keys=True))\n",
    "\n",
    "\n"
   ]
  },
  {
   "cell_type": "code",
   "execution_count": 28,
   "metadata": {},
   "outputs": [
    {
     "name": "stdout",
     "output_type": "stream",
     "text": [
      "{\n",
      "    \"btc\": [\n",
      "        {\n",
      "            \"address\": \"1DtPs2cudZ9REuNdXFD49F2X4sJtGyXNCF\",\n",
      "            \"index\": 0,\n",
      "            \"path\": \"m/44'/0'/0'/0/0\",\n",
      "            \"privkey\": \"Kwm1xyL9EMsfyWXRgoVHdZP3PZfzxVnmEBoEZ7x3cAAwHpCYd5Ad\",\n",
      "            \"pubkey\": \"032d0151a2dad5a5b2f151bdc4d7ba5394a7eec48fd441d30a563cbb1418d9809f\",\n",
      "            \"pubkeyhash\": \"8d59cee3142b7390a796950a5fbf7a084264bbe8\",\n",
      "            \"xprv\": \"xprvA2qAvxiyv9UAaqzNRHb4yEvEaV3MQMk2ufAyNjEDykBxKtx4pMyUpYN5DV1tfqn9zNhEZLhWDwE8NHLZk4s9fv63cc1efiTBqFLTLxjhNjw\",\n",
      "            \"xpub\": \"xpub6FpXLUFskX2ToL4qXK85LNry8WsqopTtGt6aB7dqY5iwChHDMuHjNLgZ4nD8VnrP75CWXWEXHYwrCSYdH4RU8W6CpNBNHi6myV1LBtmR7yF\"\n",
      "        },\n",
      "        {\n",
      "            \"address\": \"1LcJVVMMdgn2YpQMd5fmqAygJeZ2PnvJoJ\",\n",
      "            \"index\": 1,\n",
      "            \"path\": \"m/44'/0'/0'/0/1\",\n",
      "            \"privkey\": \"KwU3XFF1WuVZmNqWB7djrBwMiBRgeGp8y7ft3VjUssiNpCfNwi5L\",\n",
      "            \"pubkey\": \"03ea48f065c3a06d041b5cebb94b4a8a3ca9c1d3046ed24d8a7e8d7cdc22a4e707\",\n",
      "            \"pubkeyhash\": \"d7178ca9820eaf34d1661ba7a281b84fcd2c4229\",\n",
      "            \"xprv\": \"xprvA2qAvxiyv9UAc4RyJe6UUCDixFvyuqQVNiLkEywzp3vHGdbDsnCMsmFm9s2jQkfKDbioaC5owMMrwrCn7YHKaJoULLzudD6kSqG4Qv6pHYi\",\n",
      "            \"xpub\": \"xpub6FpXLUFskX2TpYWSQfdUqLATWHmUKJ8LjwGM3NMcNPTG9RvNRKWcRZaF1BjBAy2LqMotVaTHMfUX6NmgT4z7VeCNcT4GYurhZYnf2Z7nb7d\"\n",
      "        },\n",
      "        {\n",
      "            \"address\": \"199yUo9dm5CYSXYmDqenXsn7BPgT9gMf92\",\n",
      "            \"index\": 2,\n",
      "            \"path\": \"m/44'/0'/0'/0/2\",\n",
      "            \"privkey\": \"L3iHX1dXP7eK6bu24SRE9hycwDrbc7gRJZZ1Bwmkeryy7U6Ft8N3\",\n",
      "            \"pubkey\": \"03e8b99c25b72209b51c615e60df51a627ad7740c3aa732ee271008e2142847f40\",\n",
      "            \"pubkeyhash\": \"59737aff2d93981803242f058dfd68ca76095bf7\",\n",
      "            \"xprv\": \"xprvA2qAvxiyv9UAePtMcNxhhKRbn1S1yaZUYmn1UgX3XnC3LMhyDjW8v8gPwNJbkLdEnH5dpjKsZz5VsS9Hm2wfsCzMvh7GWL9Y5mPUEfunr2F\",\n",
      "            \"xpub\": \"xpub6FpXLUFskX2TrsxpiQVi4TNLL3GWP3HKuzhcH4vf67j2DA37mGpPTvzsnfaHb4bpoP1UDgjP5YzPNruFDHW8R1VYwQndgSXztaSk4BySCqw\"\n",
      "        }\n",
      "    ],\n",
      "    \"btc-test\": [\n",
      "        {\n",
      "            \"address\": \"mgwpqFy5NuRExe14WjFkFDdrBWH44TrdR2\",\n",
      "            \"index\": 0,\n",
      "            \"path\": \"m/44'/1'/0'/0/0\",\n",
      "            \"privkey\": \"cSRukXneF94qmFaHdrByWtAFaqqzDua7C6n5kjtzNAFWhFrb4bwu\",\n",
      "            \"pubkey\": \"02405afe1499b9776b938a01c28bf0d13d9e6bcb7ee3284f6c1374352d265661ea\",\n",
      "            \"pubkeyhash\": \"0fac4bbe941d3803b640c558bc8c4f2497b3462f\",\n",
      "            \"xprv\": \"tprv8jDpk9fn6tNPBokFCqx9wGoy1TkNKSSZ7GGomPhg66pWJo8aXe9QT5SWCmJhRXnuUxoYxoCkAYWQZ4nZPW4uFTag69inJVgW3rAbz3Dh3GH\",\n",
      "            \"xpub\": \"tpubDFurtZi2FG445Gn36VckLgU5aVGJUmdTgZsb3ujyWNcu9HPMA2xzda4NNseE11XPfsmiSw7AAqM7L7ojrs9GitTKyoatfWgpD6atR4t291k\"\n",
      "        },\n",
      "        {\n",
      "            \"address\": \"n2du5DbA8nBwbvaXa2QYsbEN31HdHYaDnb\",\n",
      "            \"index\": 1,\n",
      "            \"path\": \"m/44'/1'/0'/0/1\",\n",
      "            \"privkey\": \"cRcaZAF5U5dUncGN9Ud84fhruoeVCHPJi28mnFjRasFA3562h5zm\",\n",
      "            \"pubkey\": \"0213f7f5c1ae94f7603371163bd8668c5c4d302d925d89cb926f56b6da5232099c\",\n",
      "            \"pubkeyhash\": \"e7aadd3a95aab5ba8e6c556aa9dbc05d9b9603de\",\n",
      "            \"xprv\": \"tprv8jDpk9fn6tNPG9gFcpVP7KEdZeRdn1xMrGAFmhZH32m1kpDTDvwDscNBjopTy3V3Z5XGkz4QHDSCqks9x6cJnscDk6hF78KX9JHgb1cwYid\",\n",
      "            \"xpub\": \"tpubDFurtZi2FG449ci3WU9yWitk8fwZwM9GRZm34DbaTJZQbJUDrKkp46z3uv1AhaGk685CREdMvRFq1uTDx1VUaC9LZExYrfo6k5DAxvPkjES\"\n",
      "        },\n",
      "        {\n",
      "            \"address\": \"mvJK2p8EpHsK8PGnW7Dfv8b3SLtMp2Xj69\",\n",
      "            \"index\": 2,\n",
      "            \"path\": \"m/44'/1'/0'/0/2\",\n",
      "            \"privkey\": \"cVSqwpzyX8GXqcpcJ8xJiLvEQEa6iXtvzr1pAUuppKPech435YHF\",\n",
      "            \"pubkey\": \"028cef5f7d2b6989eb4689d66926666f57bf4e4268fcda815e2252e7869a349e3c\",\n",
      "            \"pubkeyhash\": \"a225ca31ae36cae13d99c09c55e4292c09d5ec36\",\n",
      "            \"xprv\": \"tprv8jDpk9fn6tNPJqbdRzgSpQyr6m8dr7PGPeVQoUUR1wfMjWGVQGtwh3NnGtc6u89ukW9tRba5xy1ayhDUPGQWGzU1S4aU5tsoCwSMSyw4AQT\",\n",
      "            \"xpub\": \"tpubDFurtZi2FG44CJdRKeM3Dpdxfnea1SaAxx6C5zWiSDTkZzXG2fiXsXzeSzqirRDQNteby8u8V5yCa9YZEQ1SZHbqRRwNbMtRTshuW4EAFKG\"\n",
      "        }\n",
      "    ],\n",
      "    \"eth\": [\n",
      "        {\n",
      "            \"address\": \"0xE80Ba6bb4A0D10B01a57feF1B6d7ED91efD235Fc\",\n",
      "            \"index\": 0,\n",
      "            \"path\": \"m/44'/60'/0'/0/0\",\n",
      "            \"privkey\": \"0xeb6abd70a4554eb4b7c4fe51b8045060b4cb103146304b69b061276d203e19b3\",\n",
      "            \"pubkey\": \"03f727ecd32d0951520097bcc2a03403692ec763fd548b415d82ecf82167a6bce7\",\n",
      "            \"pubkeyhash\": \"f161cb80c3033407f17a809884c5139f097f4c23\",\n",
      "            \"xprv\": \"xprvA3ws19C5dKoioQ8tFht1mtCtAMXdRUjtKEJ8iEQbuL2dLj843xjnAg1Dm3szJ7z61YLdJ3Yg6X1fD9ekbh2dBFnQuy5fK3F3UcVHW9WFwe9\",\n",
      "            \"xpub\": \"xpub6GwDQeiyThN21tDMMjR2929ciPN7pwTjgTDjWcpDTfZcDXTCbW42iUKhcLwfmho3TBifzzHhkjUjaJUowRyq5AUjJMdGFwptNRSEEi5hc6n\"\n",
      "        },\n",
      "        {\n",
      "            \"address\": \"0xdDD2a3b5DfDb760e332B342ECE5C68Aedb872E67\",\n",
      "            \"index\": 1,\n",
      "            \"path\": \"m/44'/60'/0'/0/1\",\n",
      "            \"privkey\": \"0xa5f745c333b1ab4d5e667c101b85842d923cb36c8d812ecac5221aab880da1a4\",\n",
      "            \"pubkey\": \"03bff37151fc9f5bbac3644345bcf3846d820c89204fe6b9a5f7a594c0d6c2ab36\",\n",
      "            \"pubkeyhash\": \"0e9ed6771468b1f3d4133048a205f6fe0ec70588\",\n",
      "            \"xprv\": \"xprvA3ws19C5dKoiq67NSvFZpKbwZyZ9vbe1APA8uWzAEgUw3HAam26Zh7qfsWhMeoA2NxjtK792WNekGAfPqzzmYCaodbBc1mxzoc5yW4n92em\",\n",
      "            \"xpub\": \"xpub6GwDQeiyThN23aBqYwnaBTYg81PeL4MrXc5jhuPmo21uv5VjJZQpEvA9iosK2LcdJXQBdJfKgCLUkXP37eT8ZBdr4N5XYFSNdSZcqFUdvN8\"\n",
      "        },\n",
      "        {\n",
      "            \"address\": \"0xb87c83c7940181fDcA81482Ac1f2318103e0adc2\",\n",
      "            \"index\": 2,\n",
      "            \"path\": \"m/44'/60'/0'/0/2\",\n",
      "            \"privkey\": \"0xb23666d9ff79fc076d30917307cda4de8930fb76043db670171270bb2fff4204\",\n",
      "            \"pubkey\": \"027bc72152e653cdefdf00f8d20795c94d98ac3a136bfaf32abf1937cd0bf88b56\",\n",
      "            \"pubkeyhash\": \"222af4be314878cb7e4a88556e38cf5aa954c3a2\",\n",
      "            \"xprv\": \"xprvA3ws19C5dKoit5ta1PgJf8LvExTMMsiY5a9zGZiuQszsPvCYmcdtpAj4XBeB98pt9YKjj52K6gMLfohvXCYKcE8TCJRZ5w2W9Xk29kXvrNW\",\n",
      "            \"xpub\": \"xpub6GwDQeiyThN26Zy37RDK2GHenzHqmLSPSo5b4x8WyDXrGiXhK9x9My3YNSFy85n87W6H4RKAxYrmFwQvLccPvTLf5vcAJZbSE1yFhjgo8t7\"\n",
      "        }\n",
      "    ]\n",
      "}\n"
     ]
    }
   ],
   "source": [
    "print(json.dumps(keys, indent=4, sort_keys=True))"
   ]
  },
  {
   "cell_type": "code",
   "execution_count": 29,
   "metadata": {},
   "outputs": [],
   "source": [
    "# Create a function called `create_tx` that creates an unsigned transaction appropriate metadata.\n",
    "def create_tx(coin,account, recipient, amount):\n",
    "    if coin == ETH: \n",
    "        gasEstimate = w3.eth.estimateGas(\n",
    "            {\"from\":eth_acc.address, \"to\":recipient, \"value\": amount}\n",
    "        )\n",
    "        return { \n",
    "            \"from\": eth_acc.address,\n",
    "            \"to\": recipient,\n",
    "            \"value\": amount,\n",
    "            \"gasPrice\": w3.eth.gasPrice,\n",
    "            \"gas\": gasEstimate,\n",
    "            \"nonce\": w3.eth.getTransactionCount(eth_acc.address)\n",
    "        }\n",
    "    \n",
    "    elif coin == BTCTEST:\n",
    "        return PrivateKeyTestnet.prepare_transaction(account.address, [(recipient, amount, BTC)])\n",
    "\n"
   ]
  },
  {
   "cell_type": "code",
   "execution_count": 30,
   "metadata": {},
   "outputs": [],
   "source": [
    "# Create a function called `send_tx` that calls `create_tx`, signs and sends the transaction.\n",
    "def send_tx(coin,account,recipient, amount):\n",
    "    txn = create_tx(coin, account, recipient, amount)\n",
    "    if coin == ETH:\n",
    "        signed_txn = eth_acc.sign_transaction(txn)\n",
    "        result = w3.eth.sendRawTransaction(signed_txn.rawTransaction)\n",
    "        print(result.hex())\n",
    "        return result.hex()\n",
    "    elif coin == BTCTEST:\n",
    "        tx_btctest = create_tx(coin, account, recipient, amount)\n",
    "        signed_txn = account.sign_transaction(txn)\n",
    "        print(signed_txn)\n",
    "        return NetworkAPI.broadcast_tx_testnet(signed_txn)"
   ]
  },
  {
   "cell_type": "code",
   "execution_count": 31,
   "metadata": {},
   "outputs": [
    {
     "data": {
      "text/plain": [
       "False"
      ]
     },
     "execution_count": 31,
     "metadata": {},
     "output_type": "execute_result"
    }
   ],
   "source": [
    "w3.isConnected()"
   ]
  },
  {
   "cell_type": "code",
   "execution_count": 32,
   "metadata": {},
   "outputs": [
    {
     "name": "stdout",
     "output_type": "stream",
     "text": [
      "btc-test\n",
      "cSRukXneF94qmFaHdrByWtAFaqqzDua7C6n5kjtzNAFWhFrb4bwu\n"
     ]
    }
   ],
   "source": [
    "btc_acc = priv_key_to_account(BTCTEST,btc_PrivateKey)"
   ]
  },
  {
   "cell_type": "code",
   "execution_count": 33,
   "metadata": {},
   "outputs": [
    {
     "data": {
      "text/plain": [
       "'{\"unspents\":[{\"amount\":95592,\"confirmations\":15,\"script\":\"76a9140fac4bbe941d3803b640c558bc8c4f2497b3462f88ac\",\"txid\":\"15988d8d857c517b3e507606c15b67803b6347a0bd045eaa23c032c0c7550401\",\"txindex\":1,\"type\":\"p2pkh\",\"vsize\":148,\"segwit\":false,\"sequence\":4294967295}],\"outputs\":[[\"mgwpqFy5NuRExe14WjFkFDdrBWH44TrdR2\",1000],[\"mgwpqFy5NuRExe14WjFkFDdrBWH44TrdR2\",94140]]}'"
      ]
     },
     "execution_count": 33,
     "metadata": {},
     "output_type": "execute_result"
    }
   ],
   "source": [
    "create_tx(BTCTEST,btc_acc,\"mgwpqFy5NuRExe14WjFkFDdrBWH44TrdR2\", 0.00001)"
   ]
  },
  {
   "cell_type": "code",
   "execution_count": 34,
   "metadata": {},
   "outputs": [
    {
     "name": "stdout",
     "output_type": "stream",
     "text": [
      "0100000001010455c7c032c023aa5e04bda047633b80675bc10676503e7b517c858d8d9815010000006a473044022003eb50420dcb1aa9aaed29c94aac3df61d200a1a27f8d3f956c454833116dc5c02200e699380887574b34c2e08b8a613f8c2be61a729d732b3596751c109c61688b4012102405afe1499b9776b938a01c28bf0d13d9e6bcb7ee3284f6c1374352d265661eaffffffff02e8030000000000001976a914344a0f48ca150ec2b903817660b9b68b13a6702688acbc6f0100000000001976a9140fac4bbe941d3803b640c558bc8c4f2497b3462f88ac00000000\n"
     ]
    }
   ],
   "source": [
    "send_tx(BTCTEST,btc_acc,\"mkHS9ne12qx9pS9VojpwU5xtRd4T7X7ZUt\", 0.00001)\n"
   ]
  },
  {
   "cell_type": "code",
   "execution_count": 35,
   "metadata": {},
   "outputs": [],
   "source": [
    "w3 = Web3(Web3.HTTPProvider(\"http://127.0.0.1:8545\"))\n",
    "w3.middleware_onion.inject(geth_poa_middleware, layer=0)\n"
   ]
  },
  {
   "cell_type": "code",
   "execution_count": 36,
   "metadata": {},
   "outputs": [
    {
     "data": {
      "text/plain": [
       "False"
      ]
     },
     "execution_count": 36,
     "metadata": {},
     "output_type": "execute_result"
    }
   ],
   "source": [
    "w3.isConnected()"
   ]
  },
  {
   "cell_type": "code",
   "execution_count": 37,
   "metadata": {},
   "outputs": [
    {
     "name": "stdout",
     "output_type": "stream",
     "text": [
      "eth\n",
      "0xeb6abd70a4554eb4b7c4fe51b8045060b4cb103146304b69b061276d203e19b3\n"
     ]
    }
   ],
   "source": [
    "eth_acc = priv_key_to_account(ETH, derive_wallets(mnemonic, ETH,5)[0]['privkey'])\n"
   ]
  }
 ],
 "metadata": {
  "interpreter": {
   "hash": "2d28290dbcbe942368bdcba3308f2959fb237d9ba857e164f96f19c6b6e29578"
  },
  "kernelspec": {
   "display_name": "Python 3.7.11 64-bit ('ethereum': conda)",
   "language": "python",
   "name": "python3"
  },
  "language_info": {
   "codemirror_mode": {
    "name": "ipython",
    "version": 3
   },
   "file_extension": ".py",
   "mimetype": "text/x-python",
   "name": "python",
   "nbconvert_exporter": "python",
   "pygments_lexer": "ipython3",
   "version": "3.7.11"
  },
  "orig_nbformat": 4
 },
 "nbformat": 4,
 "nbformat_minor": 2
}
